{
 "cells": [
  {
   "cell_type": "markdown",
   "id": "36cd5505",
   "metadata": {},
   "source": [
    "### Flash PL bitstream onto FPGA"
   ]
  },
  {
   "cell_type": "code",
   "execution_count": null,
   "id": "6c719594",
   "metadata": {},
   "outputs": [],
   "source": [
    "from pynq import allocate, Overlay;\n",
    "import numpy as np;\n",
    "import matplotlib.pyplot as plot;\n",
    "from PIL import Image as pil;\n",
    "import cv2;\n",
    "\n",
    "# Laad systeemcomponenten in PL\n",
    "\n",
    "system = Overlay(\"bd_wrapper.bit\");\n",
    "dma = system.axi_dma_0;\n",
    "vpu = system.vpu_accel_0;\n",
    "\n",
    "# Check if the VPU IP core is the right component by chekcing if the registers exist\n",
    "\n",
    "for reg in [\"in_width\", \"in_height\"]:\n",
    "    assert(hasattr(vpu.register_map, reg));\n",
    "\n",
    "vpu.register_map"
   ]
  },
  {
   "cell_type": "markdown",
   "id": "9ce9a78e",
   "metadata": {},
   "source": [
    "### Load input image"
   ]
  },
  {
   "cell_type": "code",
   "execution_count": null,
   "id": "1b1cb3d5",
   "metadata": {},
   "outputs": [],
   "source": [
    "# Laad input image\n",
    "\n",
    "image = cv2.imread(\"0a0a0b1a-7c39d841.png\");\n",
    "\n",
    "plot.imshow(image[:,:,::-1]);"
   ]
  },
  {
   "cell_type": "markdown",
   "id": "699ce22a",
   "metadata": {},
   "source": [
    "### Allocate SDRAM space & copy image to there"
   ]
  },
  {
   "cell_type": "code",
   "execution_count": null,
   "id": "3f4734f4",
   "metadata": {},
   "outputs": [],
   "source": [
    "# Wijs SDRAM toe waar wij de afbeelding willen plaatsen\n",
    "\n",
    "height, width, channels = image.shape\n",
    "\n",
    "in_buffer = allocate(shape=(height, width, 3), dtype=np.uint8, cacheable=1)\n",
    "out_buffer = allocate(shape=(height, width), dtype=np.uint8, cacheable=1)\n",
    "\n",
    "# Kopieer de afbeelding naar deze ruimte\n",
    "\n",
    "in_buffer[:] = image"
   ]
  },
  {
   "cell_type": "markdown",
   "id": "a4d6812c",
   "metadata": {},
   "source": [
    "### Activate the HLS Image Processing IP Core"
   ]
  },
  {
   "cell_type": "code",
   "execution_count": null,
   "id": "6c23c0c4",
   "metadata": {},
   "outputs": [],
   "source": [
    "# Geef een commando aan de digitale logica via de S_AXILITE poort\n",
    "\n",
    "vpu.register_map.in_width = width\n",
    "vpu.register_map.in_height = height\n",
    "\n",
    "dma.sendchannel.transfer(in_buffer)\n",
    "dma.recvchannel.transfer(out_buffer)"
   ]
  },
  {
   "cell_type": "code",
   "execution_count": null,
   "id": "06523741",
   "metadata": {},
   "outputs": [],
   "source": [
    "vpu.write(0x00, 0x81) # write AP_START and AP_AUTOSTART bits\n",
    "\n",
    "dma.sendchannel.wait()\n",
    "dma.recvchannel.wait()"
   ]
  },
  {
   "cell_type": "code",
   "execution_count": null,
   "id": "7260f5ca",
   "metadata": {},
   "outputs": [],
   "source": [
    "cv2.imwrite(\"0a0a0b1a-7c39d841.out.png\", out_buffer)\n",
    "plot.imshow(out_buffer, cmap=\"gray\");\n",
    "plot.show()\n",
    "plot.imshow(cv2.cvtColor(image, cv2.COLOR_BGR2GRAY), cmap=\"gray\")"
   ]
  },
  {
   "cell_type": "code",
   "execution_count": null,
   "id": "897104c7",
   "metadata": {},
   "outputs": [],
   "source": [
    "del in_buffer\n",
    "del out_buffer"
   ]
  },
  {
   "cell_type": "code",
   "execution_count": null,
   "id": "f1810a16",
   "metadata": {},
   "outputs": [],
   "source": []
  }
 ],
 "metadata": {
  "kernelspec": {
   "display_name": "Python 3",
   "language": "python",
   "name": "python3"
  },
  "language_info": {
   "codemirror_mode": {
    "name": "ipython",
    "version": 3
   },
   "file_extension": ".py",
   "mimetype": "text/x-python",
   "name": "python",
   "nbconvert_exporter": "python",
   "pygments_lexer": "ipython3",
   "version": "3.8.2"
  }
 },
 "nbformat": 4,
 "nbformat_minor": 5
}
