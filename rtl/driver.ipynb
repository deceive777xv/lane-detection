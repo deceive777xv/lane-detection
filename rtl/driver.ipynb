{
 "cells": [
  {
   "cell_type": "markdown",
   "id": "64ea6afe",
   "metadata": {},
   "source": [
    "# Lane Detector driver script"
   ]
  },
  {
   "cell_type": "code",
   "execution_count": 1,
   "id": "ab97970e",
   "metadata": {},
   "outputs": [
    {
     "data": {
      "application/javascript": [
       "\n",
       "try {\n",
       "require(['notebook/js/codecell'], function(codecell) {\n",
       "  codecell.CodeCell.options_default.highlight_modes[\n",
       "      'magic_text/x-csrc'] = {'reg':[/^%%microblaze/]};\n",
       "  Jupyter.notebook.events.one('kernel_ready.Kernel', function(){\n",
       "      Jupyter.notebook.get_cells().map(function(cell){\n",
       "          if (cell.cell_type == 'code'){ cell.auto_highlight(); } }) ;\n",
       "  });\n",
       "});\n",
       "} catch (e) {};\n"
      ]
     },
     "metadata": {},
     "output_type": "display_data"
    },
    {
     "data": {
      "application/javascript": [
       "\n",
       "try {\n",
       "require(['notebook/js/codecell'], function(codecell) {\n",
       "  codecell.CodeCell.options_default.highlight_modes[\n",
       "      'magic_text/x-csrc'] = {'reg':[/^%%pybind11/]};\n",
       "  Jupyter.notebook.events.one('kernel_ready.Kernel', function(){\n",
       "      Jupyter.notebook.get_cells().map(function(cell){\n",
       "          if (cell.cell_type == 'code'){ cell.auto_highlight(); } }) ;\n",
       "  });\n",
       "});\n",
       "} catch (e) {};\n"
      ]
     },
     "metadata": {},
     "output_type": "display_data"
    }
   ],
   "source": [
    "from pynq import allocate, Overlay, Clocks, MMIO\n",
    "from pynq.lib import AxiGPIO\n",
    "from matplotlib import pyplot as plot\n",
    "from IPython.display import Video\n",
    "import numpy as np\n",
    "import cv2 as cv\n",
    "import math"
   ]
  },
  {
   "cell_type": "markdown",
   "id": "4186fe03",
   "metadata": {},
   "source": [
    "## Load the system bitstream into PL"
   ]
  },
  {
   "cell_type": "code",
   "execution_count": 2,
   "id": "e740bd07",
   "metadata": {},
   "outputs": [
    {
     "data": {
      "text/plain": [
       "RegisterMap {\n",
       "  CTRL = Register(AP_START=0, AP_DONE=0, AP_IDLE=1, AP_READY=0, RESERVED_1=0, AUTO_RESTART=0, RESERVED_2=0, RESERVED_3=0, RESERVED_4=0),\n",
       "  GIER = Register(Enable=0, RESERVED=0),\n",
       "  IP_IER = Register(CHAN0_INT_EN=0, CHAN1_INT_EN=0, RESERVED_0=0, CHAN2_INT_EN=0, RESERVED_1=0),\n",
       "  IP_ISR = Register(CHAN0_INT_ST=0, CHAN1_INT_ST=0, RESERVED_0=0, CHAN2_INT_ST=0, RESERVED_1=0),\n",
       "  in_height = Register(in_height=write-only),\n",
       "  in_width = Register(in_width=write-only),\n",
       "  seg_thres = Register(seg_thres=write-only, RESERVED=write-only),\n",
       "  g_sigma = Register(g_sigma=write-only),\n",
       "  e_thres = Register(e_thres=write-only, RESERVED=write-only),\n",
       "  h_thres = Register(h_thres=write-only, RESERVED=write-only)\n",
       "}"
      ]
     },
     "execution_count": 2,
     "metadata": {},
     "output_type": "execute_result"
    }
   ],
   "source": [
    "# Load the system into the PL\n",
    "system = Overlay(\"bd_wrapper.bit\");\n",
    "dma = system.axi_dma_0\n",
    "vpu = system.vpu_accel_0\n",
    "\n",
    "# For some reason this clock gets reset to 66 MHz\n",
    "Clocks.fclk0_mhz = 100\n",
    "\n",
    "# Check if the VPU IP core is the right component by chekcing if the registers exist\n",
    "for reg in [\"in_width\", \"in_height\", \"seg_thres\", \"g_sigma\", \"e_thres\", \"h_thres\"]:\n",
    "    assert(hasattr(vpu.register_map, reg))\n",
    "\n",
    "vpu.register_map"
   ]
  },
  {
   "cell_type": "markdown",
   "id": "239e7070",
   "metadata": {},
   "source": [
    "## Configure the UART-Lite peripheral"
   ]
  },
  {
   "cell_type": "code",
   "execution_count": 3,
   "id": "8c0d0132",
   "metadata": {},
   "outputs": [],
   "source": [
    "# Access the UART registers via memory mapped IO\n",
    "uart = MMIO(system.ip_dict[\"axi_uartlite_0\"][\"phys_addr\"], 65535)\n",
    "\n",
    "# Register offsets from base address\n",
    "# https://www.xilinx.com/support/documents/ip_documentation/axi_uartlite/v2_0/pg142-axi-uartlite.pdf\n",
    "reg_rx = 0x00\n",
    "reg_tx = 0x04\n",
    "reg_status = 0x08\n",
    "reg_control = 0x0C\n",
    "\n",
    "# Bit positions for flags\n",
    "flag_interrupt_en = 4\n",
    "flag_rx_empty = 0\n",
    "flag_tx_empty_n = 2\n",
    "flag_reset_tx = 0\n",
    "flag_reset_rx = 1\n",
    "\n",
    "# We want the RX/TX queues to be empty before we do anything\n",
    "# If this is already the case, skip this step.\n",
    "if uart.read(reg_status) & (1 << flag_rx_empty) or not uart.read(reg_status) & (1 << flag_tx_empty_n):\n",
    "    uart.write(reg_control, (1 << flag_reset_tx) | (1 << flag_reset_rx))\n",
    "    while uart.read(reg_status) & (1 << flag_rx_empty) or not uart.read(reg_status) & (1 << flag_tx_empty_n):\n",
    "        pass\n",
    "\n",
    "# We want interrupts to be disabled, check the status register\n",
    "# If this is already the case, skip this step.\n",
    "if uart.read(reg_status) & (1 << flag_interrupt_en):\n",
    "    uart.write(reg_control, (1 << flag_interrupt_en))\n",
    "    while uart.read(reg_status) & (1 << flag_interrupt_en):\n",
    "        pass\n",
    "\n",
    "# Write an array of bytes over UART\n",
    "def uart_write_bytes(vector):\n",
    "    for v in vector:\n",
    "        while not uart.read(reg_status) & (1 << flag_tx_empty_n):\n",
    "            pass\n",
    "        uart.write(reg_tx, v)\n",
    "        \n",
    "# Write a string as ASCII characters over UART\n",
    "def uart_write_ascii(string):\n",
    "    uart_write_bytes(map(lambda char: ord(char), string))\n",
    "\n",
    "# Use the PYNQ GPIO for controlling the RGB LEDs\n",
    "leds = AxiGPIO(system.ip_dict[\"axi_gpio_0\"])\n",
    "leds[0:6].write(0b100100) # all red"
   ]
  },
  {
   "cell_type": "markdown",
   "id": "41c5491d",
   "metadata": {},
   "source": [
    "## Open the dashcam capture"
   ]
  },
  {
   "cell_type": "code",
   "execution_count": 4,
   "id": "973eeadc",
   "metadata": {},
   "outputs": [
    {
     "data": {
      "text/plain": [
       "False"
      ]
     },
     "execution_count": 4,
     "metadata": {},
     "output_type": "execute_result"
    }
   ],
   "source": [
    "max_width = 1280\n",
    "max_height = 720\n",
    "max_lines = 32\n",
    "theta_margin = 0.05\n",
    "\n",
    "# The dashcam should be found by V4L2 and available as device 0 \n",
    "vrd = cv.VideoCapture(\"night4.m4v\")\n",
    "vrd.set(cv.CAP_PROP_FRAME_WIDTH, max_width)\n",
    "vrd.set(cv.CAP_PROP_FRAME_HEIGHT, max_height)"
   ]
  },
  {
   "cell_type": "markdown",
   "id": "bb9b8c7f",
   "metadata": {},
   "source": [
    "## Configure the memory controller"
   ]
  },
  {
   "cell_type": "code",
   "execution_count": 5,
   "id": "af257582",
   "metadata": {},
   "outputs": [],
   "source": [
    "# Configure the DMA\n",
    "in_buffer = allocate(shape=(max_height, max_width, 3), dtype=np.uint8, cacheable=1)\n",
    "out_buffer = allocate(shape=(2, max_lines), dtype=np.int32, cacheable=1)\n",
    "fl_buffer = allocate(shape=(2, max_lines), dtype=np.float32, cacheable=1)\n",
    "\n",
    "# Default settings for most scenarios\n",
    "#seg_thres = 140\n",
    "seg_thres = 70\n",
    "g_sigma = 2.5\n",
    "e_thres = 20\n",
    "h_thres = 150\n",
    "\n",
    "# Configure the IP core\n",
    "vpu.register_map.in_width = max_width\n",
    "vpu.register_map.in_height = max_height\n",
    "vpu.register_map.seg_thres = seg_thres\n",
    "vpu.register_map.g_sigma = e_thres\n",
    "vpu.register_map.e_thres = e_thres\n",
    "vpu.register_map.h_thres = h_thres"
   ]
  },
  {
   "cell_type": "markdown",
   "id": "8beb4845",
   "metadata": {},
   "source": [
    "## Run the main loop"
   ]
  },
  {
   "cell_type": "code",
   "execution_count": 6,
   "id": "a17b2040",
   "metadata": {},
   "outputs": [
    {
     "name": "stdout",
     "output_type": "stream",
     "text": [
      "Avg:  0.019379453597222224  s over  720  frames\n"
     ]
    }
   ],
   "source": [
    "# Amount of data points to take into account when averaging\n",
    "roll_amount = 10\n",
    "# 90 degrees in radians\n",
    "deg90_rad = math.pi / 2\n",
    "# Sensitivity of the angle detection algorithm\n",
    "angle_sens = 1.75\n",
    "\n",
    "num_frames = 0\n",
    "total_ticks = 0\n",
    "left_rho_roll = 0\n",
    "left_theta_roll = 0\n",
    "right_rho_roll = 0\n",
    "right_theta_roll = 0\n",
    "departing_state = False\n",
    "departing_state_prev = False\n",
    "\n",
    "# Approximate the rolling average\n",
    "def roll_avg(avg, new):\n",
    "    avg -= avg / roll_amount;\n",
    "    avg += new / roll_amount;\n",
    "    return avg;\n",
    "\n",
    "# Set LEDs to green to indicate that video is being processed\n",
    "leds[0:6].write(0b010010)\n",
    "\n",
    "# While dashcam is capturing footage\n",
    "while vrd.isOpened():\n",
    "    ret, frame = vrd.read()\n",
    "    \n",
    "    # Check for frame capture error\n",
    "    if not ret:\n",
    "        break\n",
    "    \n",
    "    # Copy image into memory\n",
    "    in_buffer[:] = frame\n",
    "    \n",
    "    start = cv.getTickCount()\n",
    "    \n",
    "    # Send a status update via UART to tell that we are processing\n",
    "    uart_write_bytes([\n",
    "        0b00000010, # Packet type STATUS_UPDATE\n",
    "        0b00000001, # Indicate that processor is active\n",
    "        seg_thres, # Segmentation threshold\n",
    "        int(g_sigma * (1 << 6)), # Gaussian sigma in Q2.6\n",
    "        e_thres, # Sobel edge threshold\n",
    "        h_thres # Hough vote threshold\n",
    "    ])\n",
    "    \n",
    "    # Start streaming the image\n",
    "    dma.sendchannel.transfer(in_buffer)\n",
    "    dma.recvchannel.transfer(out_buffer)\n",
    "\n",
    "    # Signal the VPU to start processing\n",
    "    vpu.write(0x00,0x81)\n",
    "\n",
    "    # Wait until results are available\n",
    "    dma.sendchannel.wait()\n",
    "    dma.recvchannel.wait()\n",
    "    \n",
    "    end = cv.getTickCount()\n",
    "    total_ticks += (end - start)\n",
    "    num_frames += 1\n",
    "    \n",
    "    # Convert all fixed-point results to floats\n",
    "    fl_buffer[:] = out_buffer / (1 << (32-10))\n",
    "    \n",
    "    # Categorize lines into left and right buckets\n",
    "    left_lines = []\n",
    "    right_lines = []\n",
    "    \n",
    "    for i in range(0, max_lines):\n",
    "        rho = fl_buffer[0, i]\n",
    "        theta = fl_buffer[1, i]\n",
    "        if theta > deg90_rad + theta_margin:\n",
    "            left_lines.append((rho, theta))\n",
    "        elif theta < deg90_rad - theta_margin and theta != 0:\n",
    "            right_lines.append((rho, theta))\n",
    "\n",
    "    # Average the left lines\n",
    "    if left_lines:\n",
    "        rho, theta = np.average(left_lines, axis=0)\n",
    "        \n",
    "        if left_rho_roll == 0:\n",
    "            left_rho_roll = rho\n",
    "        else:\n",
    "            left_rho_roll = roll_avg(left_rho_roll, rho)\n",
    "        \n",
    "        if left_theta_roll == 0:\n",
    "            left_theta_roll = theta\n",
    "        else:\n",
    "            left_theta_roll = roll_avg(left_theta_roll, theta)\n",
    "    \n",
    "    # Average the right lines\n",
    "    if right_lines:\n",
    "        rho, theta = np.average(right_lines, axis=0)\n",
    "        \n",
    "        if right_rho_roll == 0:\n",
    "            right_rho_roll = rho\n",
    "        else:\n",
    "            right_rho_roll = roll_avg(right_rho_roll, rho)\n",
    "        \n",
    "        if right_theta_roll == 0:\n",
    "            right_theta_roll = theta\n",
    "        else:\n",
    "            right_theta_roll = roll_avg(right_theta_roll, theta)\n",
    "    \n",
    "    # We have a result\n",
    "    if left_theta_roll != 0 and right_theta_roll != 0:\n",
    "        \n",
    "        # Send a packet with the resulting average lines\n",
    "        uart_write_bytes([\n",
    "            0b00000100, # Packet type FRAME_PROCESSED\n",
    "            2, # Amount of Lines found (left avg and right avg)\n",
    "            int(left_rho_roll * (1 << 1)), # rho of left line in Q7.1\n",
    "            int(left_theta_roll * (1 << 6)), # theta in radians of left line in Q2.6\n",
    "            int(right_rho_roll * (1 << 1)), # rho of right line in Q7.1\n",
    "            int(right_theta_roll * (1 << 6)) # theta in radians of right line in Q2.6\n",
    "        ])\n",
    "        \n",
    "        # relative difference in degrees of the left and the center line\n",
    "        rel_left = left_theta_roll - deg90_rad\n",
    "        # relative difference in degrees of the right and the center line\n",
    "        rel_right = deg90_rad - right_theta_roll\n",
    "        \n",
    "        # Save the state of the previous iteration\n",
    "        departing_state_prev = departing_state\n",
    "        \n",
    "        # If the angle of the {left,right} line is double that of the other line\n",
    "        # Use a simple state machine for this\n",
    "        if rel_left > rel_right * angle_sens or rel_right > rel_left * angle_sens:\n",
    "            departing_state = True\n",
    "        else:\n",
    "            departing_state = False\n",
    "            \n",
    "        # React on the result of the state machine\n",
    "        if not departing_state_prev and departing_state:\n",
    "            # Set LEDs to blue to indicate departure\n",
    "            leds[0:6].write(0b001001)\n",
    "            \n",
    "            # Write departure state update to UART\n",
    "            uart_write_bytes([\n",
    "                0b00001000, # Packet type DEPARTURE_WARNING\n",
    "                0b00000001 # indicate that departure is imminent\n",
    "            ])\n",
    "        elif departing_state_prev and not departing_state:\n",
    "            # Revert LEDs to green to indicate departure\n",
    "            leds[0:6].write(0b010010)\n",
    "            \n",
    "            # Write departure state update to UART\n",
    "            uart_write_bytes([\n",
    "                0b00001000, # Packet type DEPARTURE_WARNING\n",
    "                0b00000000 # indicate that departure is over\n",
    "            ])\n",
    "    \n",
    "# Release resources\n",
    "vrd.release()\n",
    "del in_buffer\n",
    "del out_buffer\n",
    "del fl_buffer\n",
    "\n",
    "# Set LEDs to red to indicate offline\n",
    "leds[0:6].write(0b100100)\n",
    "\n",
    "# Terminating, send status update to signal that we are offline\n",
    "# Status info packet\n",
    "uart_write_bytes([\n",
    "    0b00000010, # Packet type STATUS_UPDATE\n",
    "    0b00000000, # Indicate that processor is inactive\n",
    "    seg_thres, # Segmentation threshold\n",
    "    int(g_sigma * (1 << 6)), # Gaussian sigma in Q2.6\n",
    "    e_thres, # Sobel edge threshold\n",
    "    h_thres # Hough vote threshold\n",
    "])\n",
    "\n",
    "print(\"Avg: \", (total_ticks / num_frames) / cv.getTickFrequency(), \" s over \", num_frames, \" frames\")"
   ]
  }
 ],
 "metadata": {
  "kernelspec": {
   "display_name": "Python 3",
   "language": "python",
   "name": "python3"
  },
  "language_info": {
   "codemirror_mode": {
    "name": "ipython",
    "version": 3
   },
   "file_extension": ".py",
   "mimetype": "text/x-python",
   "name": "python",
   "nbconvert_exporter": "python",
   "pygments_lexer": "ipython3",
   "version": "3.8.2"
  }
 },
 "nbformat": 4,
 "nbformat_minor": 5
}
