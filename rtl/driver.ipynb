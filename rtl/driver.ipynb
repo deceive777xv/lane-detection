{
 "cells": [
  {
   "cell_type": "markdown",
   "id": "36cd5505",
   "metadata": {},
   "source": [
    "### Flash PL bitstream onto FPGA"
   ]
  },
  {
   "cell_type": "code",
   "execution_count": null,
   "id": "6c719594",
   "metadata": {},
   "outputs": [],
   "source": [
    "from pynq import allocate, Overlay;\n",
    "import numpy as np;\n",
    "import matplotlib.pyplot as plot;\n",
    "from PIL import Image as pil;\n",
    "import cv2;\n",
    "import math;\n",
    "\n",
    "np.set_printoptions(suppress=True)\n",
    "\n",
    "# Laad systeemcomponenten in PL\n",
    "\n",
    "system = Overlay(\"bd_wrapper.bit\");\n",
    "dma = system.axi_dma_0;\n",
    "vpu = system.vpu_accel_0;\n",
    "\n",
    "# Check if the VPU IP core is the right component by chekcing if the registers exist\n",
    "\n",
    "for reg in [\"in_width\", \"in_height\", \"thres\"]:\n",
    "    assert(hasattr(vpu.register_map, reg));\n",
    "\n",
    "vpu.register_map"
   ]
  },
  {
   "cell_type": "markdown",
   "id": "9ce9a78e",
   "metadata": {},
   "source": [
    "### Load input image"
   ]
  },
  {
   "cell_type": "code",
   "execution_count": null,
   "id": "1b1cb3d5",
   "metadata": {},
   "outputs": [],
   "source": [
    "# Laad input image\n",
    "inp = cv2.imread(\"edges.ppm\", 0)\n",
    "image = cv2.Canny(inp, 80, 140)\n",
    "\n",
    "plot.imshow(image, cmap='gray');"
   ]
  },
  {
   "cell_type": "markdown",
   "id": "699ce22a",
   "metadata": {},
   "source": [
    "### Allocate SDRAM space & copy image to there"
   ]
  },
  {
   "cell_type": "code",
   "execution_count": null,
   "id": "3f4734f4",
   "metadata": {},
   "outputs": [],
   "source": [
    "# Wijs SDRAM toe waar wij de afbeelding willen plaatsen\n",
    "\n",
    "maxlines = 8\n",
    "in_buffer = allocate(shape=(720, 1280), dtype=np.uint8, cacheable=1)\n",
    "out_buffer = allocate(shape=(2, maxlines), dtype=np.int32, cacheable=1)\n",
    "fl_buffer = allocate(shape=(2, maxlines), dtype=np.float32, cacheable=1)\n",
    "\n",
    "# Kopieer de afbeelding naar deze ruimtet\n",
    "\n",
    "in_buffer[:] = np.array(image)"
   ]
  },
  {
   "cell_type": "markdown",
   "id": "a4d6812c",
   "metadata": {},
   "source": [
    "### Activate the HLS Image Processing IP Core"
   ]
  },
  {
   "cell_type": "code",
   "execution_count": null,
   "id": "6c23c0c4",
   "metadata": {},
   "outputs": [],
   "source": [
    "# Geef een commando aan de digitale logica via de S_AXILITE poort\n",
    "\n",
    "vpu.register_map.in_width = 1280\n",
    "vpu.register_map.in_height = 720\n",
    "vpu.register_map.thres = 1\n",
    "\n",
    "dma.sendchannel.transfer(in_buffer)\n",
    "dma.recvchannel.transfer(out_buffer)"
   ]
  },
  {
   "cell_type": "code",
   "execution_count": null,
   "id": "06523741",
   "metadata": {},
   "outputs": [],
   "source": [
    "vpu.write(0x00,0x81) # write AP_START and AP_AUTOSTART bits\n",
    "\n",
    "dma.sendchannel.wait()\n",
    "dma.recvchannel.wait()"
   ]
  },
  {
   "cell_type": "code",
   "execution_count": null,
   "id": "7260f5ca",
   "metadata": {},
   "outputs": [],
   "source": [
    "fl_buffer[:] = out_buffer / (1 << 16)\n",
    "\n",
    "fl_buffer"
   ]
  },
  {
   "cell_type": "code",
   "execution_count": null,
   "id": "61593f16",
   "metadata": {},
   "outputs": [],
   "source": [
    "# HW results plotted\n",
    "\n",
    "vis = cv2.cvtColor(image, cv2.COLOR_GRAY2RGB)\n",
    "for i in range(0, maxlines):\n",
    "    rho = fl_buffer[0, i]\n",
    "    theta = fl_buffer[1, i]\n",
    "    a = math.cos(theta)\n",
    "    b = math.sin(theta)\n",
    "    x0 = a*rho\n",
    "    y0 = b*rho\n",
    "    wdtby2 = 1280 / 2\n",
    "    heiby2 = 720 / 2\n",
    "    pt1 = (int(x0 + 1500*(-b) + (wdtby2)), int(y0 + 1500*(a) + (heiby2)))\n",
    "    pt2 = (int(x0 - 1500*(-b) + (wdtby2)), int(y0 - 1500*(a) + (heiby2)))\n",
    "    cv2.line(vis, pt1, pt2, (255,0,0), 3, cv2.LINE_AA)\n",
    "\n",
    "cv2.imwrite(\"edges_in.png\", image)\n",
    "cv2.imwrite(\"edges_out.png\", vis)\n",
    "plot.imshow(vis)"
   ]
  },
  {
   "cell_type": "code",
   "execution_count": null,
   "id": "a04bebb3",
   "metadata": {
    "scrolled": true
   },
   "outputs": [],
   "source": [
    "# SW ref\n",
    "\n",
    "rgb = cv2.cvtColor(image, cv2.COLOR_GRAY2RGB)\n",
    "lines = cv2.HoughLines(image, 1, np.pi / 180, 150, None, 0, 0)\n",
    "\n",
    "for i in range(0, len(lines)):\n",
    "    rho = lines[i][0][0]\n",
    "    theta = lines[i][0][1]\n",
    "    a = math.cos(theta)\n",
    "    b = math.sin(theta)\n",
    "    x0 = a * rho\n",
    "    y0 = b * rho\n",
    "    pt1 = (int(x0 + 1000*(-b)), int(y0 + 1000*(a)))\n",
    "    pt2 = (int(x0 - 1000*(-b)), int(y0 - 1000*(a)))\n",
    "    cv2.line(rgb, pt1, pt2, (255,0,0), 3, cv2.LINE_AA)\n",
    "\n",
    "plot.imshow(rgb)\n",
    "lines"
   ]
  },
  {
   "cell_type": "code",
   "execution_count": null,
   "id": "897104c7",
   "metadata": {},
   "outputs": [],
   "source": [
    "del in_buffer\n",
    "del out_buffer"
   ]
  },
  {
   "cell_type": "code",
   "execution_count": null,
   "id": "c17625c7",
   "metadata": {},
   "outputs": [],
   "source": []
  }
 ],
 "metadata": {
  "kernelspec": {
   "display_name": "Python 3",
   "language": "python",
   "name": "python3"
  },
  "language_info": {
   "codemirror_mode": {
    "name": "ipython",
    "version": 3
   },
   "file_extension": ".py",
   "mimetype": "text/x-python",
   "name": "python",
   "nbconvert_exporter": "python",
   "pygments_lexer": "ipython3",
   "version": "3.8.2"
  }
 },
 "nbformat": 4,
 "nbformat_minor": 5
}
